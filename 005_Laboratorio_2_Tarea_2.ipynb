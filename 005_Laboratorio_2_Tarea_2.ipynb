{
  "nbformat": 4,
  "nbformat_minor": 0,
  "metadata": {
    "colab": {
      "name": "005 Laboratorio 2 -- Tarea 2.ipynb",
      "provenance": [],
      "collapsed_sections": [],
      "authorship_tag": "ABX9TyOb02VNy7XPBPUQfXX2ALZX",
      "include_colab_link": true
    },
    "kernelspec": {
      "name": "python3",
      "display_name": "Python 3"
    },
    "language_info": {
      "name": "python"
    }
  },
  "cells": [
    {
      "cell_type": "markdown",
      "metadata": {
        "id": "view-in-github",
        "colab_type": "text"
      },
      "source": [
        "<a href=\"https://colab.research.google.com/github/perezm-496/AI4MedImg/blob/main/005_Laboratorio_2_Tarea_2.ipynb\" target=\"_parent\"><img src=\"https://colab.research.google.com/assets/colab-badge.svg\" alt=\"Open In Colab\"/></a>"
      ]
    },
    {
      "cell_type": "code",
      "metadata": {
        "colab": {
          "base_uri": "https://localhost:8080/",
          "height": 34
        },
        "id": "60oPzIGIaXF3",
        "outputId": "5fbebefe-4671-4bef-ad50-8ea1ab93ae32"
      },
      "source": [
        "\"\"\" Construya una red neural usando Torch con los siguientes\n",
        "entrada de 2\n",
        "FC con 64 neuronas,\n",
        "ReLU\n",
        "FC con 32 neuronas,\n",
        "ReLU\n",
        "FC con 8 neuronas,\n",
        "ReLU\n",
        "Una neurona\n",
        "Sigmoide\n",
        "\"\"\"\n"
      ],
      "execution_count": 1,
      "outputs": [
        {
          "output_type": "execute_result",
          "data": {
            "application/vnd.google.colaboratory.intrinsic+json": {
              "type": "string"
            },
            "text/plain": [
              "' Construya una red neural usando Torch con los siguientes\\nentrada de 2\\nFC con 64 neuronas,\\nReLU\\nFC con 32 neuronas,\\nReLU\\nFC con 8 neuronas,\\nReLU\\nUna neurona\\nSigmoide\\n'"
            ]
          },
          "metadata": {},
          "execution_count": 1
        }
      ]
    },
    {
      "cell_type": "code",
      "metadata": {
        "id": "QJi24spBbFm5"
      },
      "source": [
        "\"\"\" \n",
        "Dado el dataset mostrado acontinuación\n",
        "que predice el valor de z = f(x,y)\n",
        "utilice un data loader y un batch size de 64\n",
        "\n",
        "1. Realice una busqueda aleatoria de lr para el entrenamiento de la red.\n",
        "i.e. genere 8 valores aleatorios entre 1e-10 y 1.0,\n",
        "entrene la red con cada uno de los lr anteriores por 120 epochs\n",
        "usando SGD.\n",
        "\n",
        "Reporte los valores del acc. en train, \n",
        "determine cual de los valores del lr es más adecuado.\n",
        "\n",
        "El reporte debe colocarse en un csv con el siguiente formato:\n",
        "Prueaba No, lr, Loss Inicial, Loss Final, Acc Inicial, Acc Final\n",
        "1, 0.01, 18, 0.9, 24%, 89%\n",
        "2, ... etc.\n",
        "Mejor lr: 3\n",
        "\"\"\"\n",
        "\n",
        "import matplotlib.pyplot as plt\n",
        "from mpl_toolkits.mplot3d import Axes3D\n",
        "import numpy as np\n",
        "import torch\n",
        "import torchvision\n",
        "\n",
        "class LabDataset(torch.utils.data.Dataset):\n",
        "    \"\"\" Dataset especial que genera una muestra aleatoria con ruido\n",
        "    del \"Monkey Saddle\"\n",
        "    \"\"\"\n",
        "\n",
        "    def __init__(self, size = 1024, xrange = (-2, 2), yrange=(-2, 2), sigma = 2):\n",
        "        \"\"\"\n",
        "        Inicializa el dataset creando una muestra aleatoria en \n",
        "        xrange, yrange de tamaño size\n",
        "        z = x**3 - 3*x*y**2\n",
        "        targets z\n",
        "        features x,y\n",
        "        \"\"\"\n",
        "        x = (torch.rand(size, dtype=torch.float)*(xrange[1]\n",
        "                                                  - xrange[0]) \n",
        "        + xrange[0])\n",
        "        y = (torch.rand(size, dtype=torch.float)*(yrange[1]\n",
        "                                                 -xrange[0])\n",
        "        + yrange[0])\n",
        "        z = x**3 - 3*x*y**2 + sigma*torch.rand(size, dtype=torch.float)\n",
        "        self.x = x\n",
        "        self.y = y\n",
        "        self.z = z\n",
        "\n",
        "    def show_plot(self):\n",
        "        fig = plt.figure()\n",
        "        ax = Axes3D(fig)\n",
        "        ax.scatter3D(self.x,self.y,self.z)\n",
        "\n",
        "    def __len__(self):\n",
        "        return self.x.shape[0]\n",
        "    \n",
        "    def __getitem__(self, idx):\n",
        "        return torch.tensor([self.x[idx], self.y[idx]]), self.z[idx]\n",
        "\n",
        "# Dataset especial.\n",
        "dataset = LabDataset()"
      ],
      "execution_count": 4,
      "outputs": []
    },
    {
      "cell_type": "code",
      "metadata": {
        "id": "HOJLnqyJdSDW",
        "colab": {
          "base_uri": "https://localhost:8080/"
        },
        "outputId": "e2bfe1ca-29bd-4cf6-cbd4-e2af73e9354b"
      },
      "source": [
        "\"\"\"\n",
        "Se le brindan varios casos de pares\n",
        "outputs y, targets t.\n",
        "Puede alterar los parametros de y, t; pero no sus valores.\n",
        "Puede aplicar funciones a y, t; pero no puede cambiar criterio.\n",
        "En cada caso se debe aplicar la funcion loss especificada,\n",
        "modificar y para que no existan errores y\n",
        "construir y_new que reduzca el valor de la función loss.\n",
        "\n",
        "- Verifique calculos manuales que el valor del loss es el esperado.\n",
        "\"\"\"\n",
        "\n",
        "import torch\n",
        "\n",
        "# Ejercicio 1\n",
        "\n",
        "y = torch.tensor([\n",
        "                  [-20.0, 150, -25],\n",
        "                  [100, 151, -10]\n",
        "                 ], dtype=torch.float\n",
        "                 )\n",
        "\n",
        "t = torch.tensor([\n",
        "                  [0, 0, 1],\n",
        "                  [0, 1, 0]],dtype=torch.float)\n",
        "\n",
        "y_new = torch.tensor([\n",
        "                  [-20.0, 150, -25],\n",
        "                  [100, 151, -10]\n",
        "                 ], dtype=torch.float\n",
        "                 )\n",
        "\n",
        "\n",
        "criterion = torch.nn.BCELoss()\n",
        "\n",
        "print(f\"Current loss: {criterion(y, t).item()}\")\n",
        "print(f\"Cuirrent loss: {criterion(y_new, t).item()}\")"
      ],
      "execution_count": 16,
      "outputs": [
        {
          "output_type": "stream",
          "name": "stdout",
          "text": [
            "Current loss: 21.775436401367188\n",
            "Cuirrent loss: 0.8716904520988464\n"
          ]
        }
      ]
    },
    {
      "cell_type": "code",
      "metadata": {
        "id": "7U9U4U30hM2w"
      },
      "source": [
        "import torch\n",
        "\n",
        "# Ejercicio 2\n",
        "\n",
        "y = torch.tensor([\n",
        "                  [0.2, 0.2, 0.6],\n",
        "                  [0.05, 0.05, 0.9]\n",
        "                 ], dtype=torch.float\n",
        "                 )\n",
        "\n",
        "t = torch.tensor([\n",
        "                  [0, 0, 1],\n",
        "                  [0, 1, 0]],dtype=torch.long)\n",
        "\n",
        "y_new = torch.tensor([\n",
        "                  [0.2, 0.2, 0.6],\n",
        "                  [0.05, 0.05, 0.9]\n",
        "                 ], dtype=torch.long)\n",
        "\n",
        "criterion = torch.nn.NLLLoss()\n",
        "\n",
        "print(f\"Current loss: {criterion(y, t).item()}\")\n",
        "print(f\"Cuirrent loss: {criterion(y_new, t).item()}\")"
      ],
      "execution_count": null,
      "outputs": []
    },
    {
      "cell_type": "code",
      "metadata": {
        "id": "drOxsWgsogUl"
      },
      "source": [
        "import torch\n",
        "\n",
        "# Ejercicio 2\n",
        "\n",
        "y = torch.tensor([\n",
        "                  [0.2, 0.2, 0.6],\n",
        "                  [0.05, 0.05, 0.9]\n",
        "                 ], dtype=torch.float\n",
        "                 )\n",
        "\n",
        "t = torch.tensor([\n",
        "                  [0, 0, 1],\n",
        "                  [0, 1, 0]],dtype=torch.long)\n",
        "\n",
        "y_new = torch.tensor([\n",
        "                  [0.2, 0.2, 0.6],\n",
        "                  [0.05, 0.05, 0.9]\n",
        "                 ], dtype=torch.float)\n",
        "\n",
        "criterion = torch.nn.CrossEntropyLoss()\n",
        "\n",
        "print(f\"Current loss: {criterion(y, t).item()}\")\n",
        "print(f\"Cuirrent loss: {criterion(y_new, t).item()}\")"
      ],
      "execution_count": null,
      "outputs": []
    },
    {
      "cell_type": "code",
      "metadata": {
        "id": "-iPYCuSVQHmJ",
        "colab": {
          "base_uri": "https://localhost:8080/"
        },
        "outputId": "aa58e42e-f491-4bfd-8b2a-fa1e624f0227"
      },
      "source": [
        "# Realice los Ejercicios anteriores en tensor flow, \n",
        "# para el entrenamiento puede utilizar Keras\n",
        "\n"
      ],
      "execution_count": 21,
      "outputs": [
        {
          "output_type": "execute_result",
          "data": {
            "text/plain": [
              "<tf.Tensor: shape=(), dtype=float32, numpy=0.36698455>"
            ]
          },
          "metadata": {},
          "execution_count": 21
        }
      ]
    },
    {
      "cell_type": "code",
      "metadata": {
        "id": "5b3XFIBexEa9"
      },
      "source": [
        ""
      ],
      "execution_count": null,
      "outputs": []
    }
  ]
}