{
  "nbformat": 4,
  "nbformat_minor": 0,
  "metadata": {
    "colab": {
      "name": "001 Perceptron Esp.ipynb",
      "provenance": [],
      "collapsed_sections": [],
      "authorship_tag": "ABX9TyPefGNzXDQXatt2nThBWQFK",
      "include_colab_link": true
    },
    "kernelspec": {
      "name": "python3",
      "display_name": "Python 3"
    },
    "language_info": {
      "name": "python"
    }
  },
  "cells": [
    {
      "cell_type": "markdown",
      "metadata": {
        "id": "view-in-github",
        "colab_type": "text"
      },
      "source": [
        "<a href=\"https://colab.research.google.com/github/perezm-496/AI4MedImg/blob/main/001_Perceptron_Esp.ipynb\" target=\"_parent\"><img src=\"https://colab.research.google.com/assets/colab-badge.svg\" alt=\"Open In Colab\"/></a>"
      ]
    },
    {
      "cell_type": "code",
      "metadata": {
        "colab": {
          "base_uri": "https://localhost:8080/",
          "height": 282
        },
        "id": "N_AD9WZdd5Il",
        "outputId": "2c561972-7949-43dc-d59c-b32ccdfc1081"
      },
      "source": [
        "\"\"\" Simple Plot of the Examples we are going to use.\"\"\"\n",
        "\n",
        "import numpy as np\n",
        "import matplotlib.pyplot as plt\n",
        "\n",
        "# We try to emulate an and gate.\n",
        "\n",
        "# samples\n",
        "\n",
        "# inputs -- we add a bias entry at x^0 = 1\n",
        "x = np.asarray( [ [0, 0],\n",
        "                  [0, 1],\n",
        "                  [1, 0],\n",
        "                  [1, 1]], dtype=np.float)\n",
        "\n",
        "# outputs -- A single output t = x1 and x2\n",
        "t = np.asarray( [0, 0, 0, 1], dtype=np.float )\n",
        "\n",
        "# Positive examples\n",
        "xp = x[t == 1,:]\n",
        "\n",
        "# Negative examples\n",
        "xn = x[t == 0, :]\n",
        "\n",
        "# Scatter Plot of Possitive and Negatives\n",
        "plt.scatter(xp[:,0], xp[:,1], color = 'blue', marker='+')\n",
        "plt.scatter(xn[:,0], xn[:,1], color = 'red', marker='o')"
      ],
      "execution_count": 10,
      "outputs": [
        {
          "output_type": "execute_result",
          "data": {
            "text/plain": [
              "<matplotlib.collections.PathCollection at 0x7fc5cc3aa110>"
            ]
          },
          "metadata": {},
          "execution_count": 10
        },
        {
          "output_type": "display_data",
          "data": {
            "image/png": "[encoded data removed]",
            "text/plain": [
              "<Figure size 432x288 with 1 Axes>"
            ]
          },
          "metadata": {
            "needs_background": "light"
          }
        }
      ]
    },
    {
      "cell_type": "code",
      "metadata": {
        "colab": {
          "base_uri": "https://localhost:8080/"
        },
        "id": "lCEYKlAXdYx_",
        "outputId": "4d4358bc-f3b2-4b65-8d60-09031b33ec85"
      },
      "source": [
        "\"\"\" Simple Perceptron implemented with Numpy.\"\"\"\n",
        "\n",
        "import numpy as np\n",
        "import matplotlib.pyplot as plt\n",
        "\n",
        "# We try to emulate an and gate.\n",
        "\n",
        "# samples\n",
        "\n",
        "# inputs -- we add a bias entry at x^0 = 1\n",
        "x = np.asarray( [ [1, 0, 0],\n",
        "                  [1, 0, 1],\n",
        "                  [1, 1, 0],\n",
        "                  [1, 1, 1]], dtype=np.float)\n",
        "\n",
        "# outputs -- A single output t = x1 and x2\n",
        "t = np.asarray( [ [0, 0, 0, 1]], dtype=np.float )\n",
        "\n",
        "\n",
        "def h(t):\n",
        "    \"\"\"The usual activation function, Heaviside function. \"\"\"\n",
        "    # return np.asarray(t > 0.0, dtype=np.float)\n",
        "    return np.heaviside(t, 0)\n",
        "\n",
        "# Initialize the weights -- We use random weights\n",
        "W = np.random.rand(1, 3)\n",
        "\n",
        "# We need to compute the output of the neural network.\n",
        "\n",
        "def perceptron_output(x, W, h):\n",
        "    \"\"\"Computes the output of the perceptron.\"\"\"\n",
        "    return h(np.matmul(W, x.transpose()))\n",
        "\n",
        "def error(x, W, h, t):\n",
        "    \"\"\"Computes mse the error on the perceptron.\"\"\"\n",
        "    return np.sum((t - perceptron_output(x, W, h))**2)\n",
        "\n",
        "# We execute the algorithm for updating the weights\n",
        "# We apply the update 5 times.\n",
        "\n",
        "alpha = 0.1 # learning rate\n",
        "for it in range(5):\n",
        "    y = perceptron_output(x, W, h)\n",
        "    W = W - alpha*np.matmul(y-t, x)\n",
        "    print(f\"Iteration: {it} \\t Error: {error(x,W,h,t)}\")\n",
        "    print(W)"
      ],
      "execution_count": 14,
      "outputs": [
        {
          "output_type": "stream",
          "name": "stdout",
          "text": [
            "Iteration: 0 \t Error: 3.0\n",
            "[[0.56159276 0.53642222 0.8570451 ]]\n",
            "Iteration: 1 \t Error: 3.0\n",
            "[[0.26159276 0.43642222 0.7570451 ]]\n",
            "Iteration: 2 \t Error: 2.0\n",
            "[[-0.03840724  0.33642222  0.6570451 ]]\n",
            "Iteration: 3 \t Error: 1.0\n",
            "[[-0.23840724  0.23642222  0.5570451 ]]\n",
            "Iteration: 4 \t Error: 1.0\n",
            "[[-0.33840724  0.23642222  0.4570451 ]]\n"
          ]
        }
      ]
    },
    {
      "cell_type": "code",
      "metadata": {
        "colab": {
          "base_uri": "https://localhost:8080/"
        },
        "id": "EwYKNJcodeWn",
        "outputId": "6c492014-5ff0-4cd5-a89a-91afac19d855"
      },
      "source": [
        "\"\"\"Simple perceptron implemented with Torch.\"\"\"\n",
        "\n",
        "# Tensors and arrays are very similar in the programming terminology.\n",
        "\n",
        "import torch\n",
        "\n",
        "# We try to emulate an and gate.\n",
        "# samples\n",
        "\n",
        "x = torch.tensor( [ [1, 0, 0],\n",
        "                  [1, 0, 1],\n",
        "                  [1, 1, 0],\n",
        "                    [1, 1, 1]], dtype=torch.float32)\n",
        "\n",
        "# outputs -- A single output t = x1 and x2\n",
        "t = torch.tensor( [ [0, 0, 0, 1]], dtype=torch.float32 )\n",
        "\n",
        "\n",
        "def h(t):\n",
        "    \"\"\"The usual activation function, Heaviside function. \"\"\"\n",
        "    return torch.heaviside(t, torch.tensor([0], dtype=torch.float32)) # Read torch heaviside\n",
        "\n",
        "# Initialize the weights -- We use random weights\n",
        "W = torch.rand(1,3, dtype=torch.float32)\n",
        "\n",
        "# We need to compute the output of the neural network.\n",
        "def perceptron_output(x, W, h):\n",
        "    \"\"\"Computes the output of the perceptron.\"\"\"\n",
        "    return h(torch.matmul(W, x.transpose(1,0)))\n",
        "\n",
        "def error(y, t):\n",
        "    \"\"\"Computes mse the error on the perceptron.\"\"\"\n",
        "    return torch.sum((y - t)**2)\n",
        "\n",
        "# We execute the algorithm for updating the weights\n",
        "# We apply the update 5 times.\n",
        "\n",
        "alpha = 0.1 # learning rate\n",
        "for it in range(5):\n",
        "    y = perceptron_output(x, W, h)\n",
        "    W = W - alpha*torch.matmul(y-t, x)\n",
        "    print(f\"Iteration: {it} \\t Error: {error(y,t)}\")\n",
        "    print(W)\n"
      ],
      "execution_count": 16,
      "outputs": [
        {
          "output_type": "stream",
          "name": "stdout",
          "text": [
            "Iteration: 0 \t Error: 3.0\n",
            "tensor([[-0.2262,  0.5763,  0.0099]])\n",
            "Iteration: 1 \t Error: 1.0\n",
            "tensor([[-0.3262,  0.4763,  0.0099]])\n",
            "Iteration: 2 \t Error: 1.0\n",
            "tensor([[-0.4262,  0.3763,  0.0099]])\n",
            "Iteration: 3 \t Error: 1.0\n",
            "tensor([[-0.3262,  0.4763,  0.1099]])\n",
            "Iteration: 4 \t Error: 1.0\n",
            "tensor([[-0.4262,  0.3763,  0.1099]])\n"
          ]
        }
      ]
    },
    {
      "cell_type": "code",
      "metadata": {
        "colab": {
          "base_uri": "https://localhost:8080/"
        },
        "id": "0vVhvDk4dh57",
        "outputId": "87be4ae2-6837-4429-bb7c-b3e38d2a629d"
      },
      "source": [
        "import tensorflow as tf\n",
        "\n",
        "# We try to emulate an and gate.\n",
        "\n",
        "# samples\n",
        "# inputs -- we add a bias entry at x^0 = 1.\n",
        "# In tf we need to specify this is an array that won't change.\n",
        "x = tf.constant( [ [1, 0, 0],\n",
        "                  [1, 0, 1],\n",
        "                  [1, 1, 0],\n",
        "                   [1, 1, 1]], dtype=tf.float32)\n",
        "\n",
        "# outputs -- A single output t = x1 and x2\n",
        "t = tf.constant( [ [0, 1, 1, 1]], dtype=tf.float32)\n",
        "\n",
        "\n",
        "def h(t):\n",
        "    \"\"\"The usual activation function, Heaviside function. \"\"\"\n",
        "    return tf.maximum(0, tf.sign(t))\n",
        "\n",
        "# Initialize the weights -- We use random weights\n",
        "W = tf.random.uniform((1,3), dtype=tf.float32)\n",
        "\n",
        "# We need to compute the output of the neural network.\n",
        "\n",
        "def perceptron_output(x, W, h):\n",
        "    \"\"\"Computes the output of the perceptron.\"\"\"\n",
        "    return h(tf.matmul(W,tf.transpose(x)))\n",
        "\n",
        "def error(x, W, h, t):\n",
        "    \"\"\"Computes mse the error on the perceptron.\"\"\"\n",
        "    return tf.math.reduce_sum((t - perceptron_output(x, W, h))**2)\n",
        "\n",
        "# We execute the algorithm for updating the weights\n",
        "# We apply the update 5 times.\n",
        "\n",
        "alpha = 0.1 # learning rate\n",
        "for it in range(5):\n",
        "    y = perceptron_output(x, W, h)\n",
        "    W = W - alpha*tf.matmul(y-t, x)\n",
        "    print(f\"Iteration: {it} \\t Error: {error(x,W,h,t)}\")\n",
        "    print(W)\n",
        "    "
      ],
      "execution_count": 22,
      "outputs": [
        {
          "output_type": "stream",
          "name": "stdout",
          "text": [
            "Iteration: 0 \t Error: 1.0\n",
            "tf.Tensor([[0.6643926  0.8057705  0.01167738]], shape=(1, 3), dtype=float32)\n",
            "Iteration: 1 \t Error: 1.0\n",
            "tf.Tensor([[0.56439257 0.8057705  0.01167738]], shape=(1, 3), dtype=float32)\n",
            "Iteration: 2 \t Error: 1.0\n",
            "tf.Tensor([[0.46439257 0.8057705  0.01167738]], shape=(1, 3), dtype=float32)\n",
            "Iteration: 3 \t Error: 1.0\n",
            "tf.Tensor([[0.36439258 0.8057705  0.01167738]], shape=(1, 3), dtype=float32)\n",
            "Iteration: 4 \t Error: 1.0\n",
            "tf.Tensor([[0.26439258 0.8057705  0.01167738]], shape=(1, 3), dtype=float32)\n"
          ]
        }
      ]
    },
    {
      "cell_type": "markdown",
      "metadata": {
        "id": "ZckcyGEQdsqZ"
      },
      "source": [
        "# Ejercicios\n",
        "\n",
        "Los siguientes ejercicios buscan brindarle un poco de práctica con el manejo de el ciclo básico de entrenamiento de la mayoría de redes neurales, evitando las complejidades dadas por el manejo de datos masivos y arquitecturas complejas.\n",
        "\n",
        "## Ejercicio 1\n",
        "\n",
        "Modifique el procedimiento de entrenamiento del perceptron mostrado anteriormente (numpy, tensorflow, keras) para que continue el entrenamiento mientras se cumplan las dos siguientes condiciones:\n",
        "1. El error sea mayor que 0.\n",
        "2. El número de iteraciones sea menor que 1,000.\n",
        "\n",
        "## Ejercicio 2\n",
        "\n",
        "Modifique el procedimiento de entrenamiento del perceptron construido en el ejercicio 1 y ejecutelo con $\\alpha = 0.01$.\n",
        "\n",
        "¿Qué puede notar de diferente entre este caso y el del ejercicio 1?\n",
        "\n",
        "\n",
        "## Ejercicio 3\n",
        "\n",
        "Construya un procedimiento que entrene un perceptron que simule una compuerta lógica or, utilice el esque anterior i.e. con un máximo de 1,000 iteraciones y mientras el errror sea mayor que 0.\n",
        "\n",
        "## Referencias\n",
        "\n",
        "1. [Documentación oficial de Torch](https://pytorch.org/docs/stable/index.html)\n",
        "2. [Documentación oficial de TensorFlow](https://www.tensorflow.org/api_docs)\n",
        "3. [Historia del Perceptron](https://homeweb.csulb.edu/~cwallis/artificialn/History.htm)\n",
        "4. Pattern Recognition and Machine Learning (2006), Christopher M. Bishop, Springer 2006.\n",
        "5. Rosenblatt, Frank (1962).  Principles of neurodynamics.  New York: Spartan.   Cf. Rumelhart, D.E., J. L. McClelland and the PDP Research Group (1986).  Parallel Distributed Processing vol. 1&2.  Cambridge: MIT."
      ]
    },
    {
      "cell_type": "code",
      "metadata": {
        "id": "5OfRAcJ8mQ1P"
      },
      "source": [
        ""
      ],
      "execution_count": null,
      "outputs": []
    }
  ]
}