{
 "cells": [
  {
   "cell_type": "markdown",
   "id": "51f9b735",
   "metadata": {},
   "source": [
    "# Torch Multilayer Perceptron\n",
    "\n",
    "- We create a two classes dataset with random data, we make sure to make it non linear separable.\n",
    "- We use a simple architecture of a MLP with three layers: 2 - 16 - 2 - 1.\n",
    "- We make use of ReLu as the activation function.\n"
   ]
  },
  {
   "cell_type": "code",
   "execution_count": 2,
   "id": "653bce0d",
   "metadata": {},
   "outputs": [
    {
     "data": {
      "text/plain": [
       "[<matplotlib.lines.Line2D at 0x7f373452a610>]"
      ]
     },
     "execution_count": 2,
     "metadata": {},
     "output_type": "execute_result"
    },
    {
     "data": {
      "image/png": "[encoded data removed]",
      "text/plain": [
       "<Figure size 432x288 with 1 Axes>"
      ]
     },
     "metadata": {
      "needs_background": "light"
     },
     "output_type": "display_data"
    }
   ],
   "source": [
    "\"\"\"Random data creation, two non linearly separable classes.\n",
    "\"\"\"\n",
    "import numpy as np\n",
    "import matplotlib.pyplot as plt\n",
    "\n",
    "np.random.seed(5)\n",
    "\n",
    "# lets define a boundary given by x^2 - x^3 + 0.5\n",
    "f = lambda x: x**2 - x**3 + 0.25\n",
    "\n",
    "x_positive = 4*np.random.rand(50)-2\n",
    "y_positive = f(x_positive) + 10*np.random.rand(50)\n",
    "\n",
    "x_negative = 4*np.random.rand(50)-2\n",
    "y_negative = f(x_negative) - 10*np.random.rand(50)\n",
    "\n",
    "x = np.asarray(\n",
    "    [np.concatenate(\n",
    "        (x_positive,\n",
    "         x_negative)),\n",
    "     np.concatenate(\n",
    "         (y_positive,\n",
    "          y_negative))\n",
    "     ]).transpose(1,0)\n",
    "\n",
    "t = np.asarray([1,]*x_positive.shape[0] + [0,]*x_negative.shape[0])\n",
    "\n",
    "plt.title(\"Samples\")\n",
    "plt.scatter(x_positive, y_positive, color='red')\n",
    "plt.scatter(x_negative, y_negative, color='blue')\n",
    "plt.plot(np.linspace(-2,2,200), f(np.linspace(-2,2,200)), color='green')"
   ]
  },
  {
   "cell_type": "code",
   "execution_count": 3,
   "id": "ce8c8808",
   "metadata": {},
   "outputs": [],
   "source": [
    "\"\"\"Data preparation.\"\"\"\n",
    "\n",
    "mus = np.mean(x, axis = 0)\n",
    "sigma = np.std(x, axis = 0)\n",
    "xn = (x-mus)/sigma"
   ]
  },
  {
   "cell_type": "code",
   "execution_count": 4,
   "id": "69f3bd76",
   "metadata": {},
   "outputs": [
    {
     "name": "stdout",
     "output_type": "stream",
     "text": [
      "MLP1(\n",
      "  (layer1): Linear(in_features=2, out_features=16, bias=True)\n",
      "  (layer2): Linear(in_features=16, out_features=2, bias=True)\n",
      "  (layer3): Linear(in_features=2, out_features=1, bias=True)\n",
      ")\n"
     ]
    }
   ],
   "source": [
    "\"\"\"Building the neural network. \"\"\"\n",
    "import torch\n",
    "import torch.nn as nn\n",
    "import torch.nn.functional as F\n",
    "\n",
    "class MLP1(nn.Module):\n",
    "\n",
    "    def __init__(self):\n",
    "        super(MLP1, self).__init__()\n",
    "        # The Perceptron also called Fully Connected are Linear layers in Torch\n",
    "        self.layer1 = nn.Linear(2, 16)\n",
    "        self.layer2 = nn.Linear(16, 2)\n",
    "        self.layer3 = nn.Linear(2, 1)\n",
    "\n",
    "    def forward(self, x):\n",
    "        y = F.relu(self.layer1(x))\n",
    "        y = F.relu(self.layer2(y))\n",
    "        y = F.sigmoid(self.layer3(y))\n",
    "        return y\n",
    "\n",
    "mdl = MLP1()\n",
    "print(mdl)"
   ]
  },
  {
   "cell_type": "code",
   "execution_count": 5,
   "id": "df22d697",
   "metadata": {},
   "outputs": [
    {
     "name": "stdout",
     "output_type": "stream",
     "text": [
      "Loss: 0.26051491498947144 ... 0.17171959578990936\n",
      "Acc: 0.5 ... 0.8700000047683716\n"
     ]
    },
    {
     "name": "stderr",
     "output_type": "stream",
     "text": [
      "/home/alexanderp/.local/lib/python3.8/site-packages/torch/nn/functional.py:1805: UserWarning: nn.functional.sigmoid is deprecated. Use torch.sigmoid instead.\n",
      "  warnings.warn(\"nn.functional.sigmoid is deprecated. Use torch.sigmoid instead.\")\n"
     ]
    },
    {
     "data": {
      "image/png": "[encoded data removed]",
      "text/plain": [
       "<Figure size 432x288 with 2 Axes>"
      ]
     },
     "metadata": {
      "needs_background": "light"
     },
     "output_type": "display_data"
    }
   ],
   "source": [
    "\"\"\" Training\n",
    "- Define a Loss Function -- Criterion.\n",
    "- Define the number or epochs(iterations).\n",
    "- We use an optimizer to take care of the weights update.\n",
    "- Define a lr.\n",
    "- We will record the loss function.\n",
    "- We will measure the accuracy at each epoch.\n",
    "\"\"\"\n",
    "import torch.optim as optim\n",
    "\n",
    "torch.manual_seed(5)\n",
    "\n",
    "mdl = MLP1()\n",
    "# We start with MSE -- L_2\n",
    "criterion = nn.MSELoss()\n",
    "epochs = 30\n",
    "lr = 0.4\n",
    "optimizer = optim.SGD(mdl.parameters(), lr=lr)\n",
    "\n",
    "# We load our examples in tensors\n",
    "x = torch.tensor(xn, dtype=torch.float)\n",
    "target = torch.reshape(torch.tensor(t, dtype=torch.float), (-1, 1))\n",
    "\n",
    "thre_val = 0.5 # The threshold value\n",
    "list_loss = []\n",
    "list_acc = []\n",
    "for epoch in range(epochs):\n",
    "    optimizer.zero_grad()\n",
    "    y = mdl(x)\n",
    "    loss = criterion(y, target)\n",
    "    loss.backward()\n",
    "    optimizer.step()\n",
    "    # Now we compute the accuracy\n",
    "    pred = torch.ge(y, thre_val)\n",
    "    acc = torch.sum(pred == target)/target.shape[0]\n",
    "    list_loss.append(loss.item())\n",
    "    list_acc.append(acc.item())\n",
    "\n",
    "    \n",
    "figs, axs = plt.subplots(1, 2)\n",
    "axs[0].plot(range(epochs), list_loss)\n",
    "axs[0].set_aspect('auto')\n",
    "axs[0].set(xlim=[0, epochs], ylim=[0, 0.3])\n",
    "axs[0].set(title='Loss',\n",
    "           xlabel='epoch',\n",
    "           ylabel='Loss')\n",
    "\n",
    "axs[1].plot(range(epochs), list_acc)\n",
    "axs[1].set(xlim=[0, epochs], ylim = [0.4, 1])\n",
    "axs[1].set(title='Acc',\n",
    "           xlabel='epoch',\n",
    "           ylabel='Acc')\n",
    "print(f\"Loss: {list_loss[0]} ... {list_loss[-1]}\")\n",
    "print(f\"Acc: {list_acc[0]} ... {list_acc[-1]}\")"
   ]
  },
  {
   "cell_type": "code",
   "execution_count": 6,
   "id": "235af45e",
   "metadata": {},
   "outputs": [],
   "source": [
    "\"\"\"\n",
    "Test\n",
    "For the test we create a new set of samples, we know the formula.\n",
    "\"\"\"\n",
    "\n",
    "x_test_positive = 4*np.random.rand(10) - 2\n",
    "y_test_positive = f(x_test_positive) + 5*np.random.rand(10)\n",
    "x_test_negative = 4*np.random.rand(10) - 2\n",
    "y_test_negative = f(x_test_negative) - 5*np.random.rand(10) \n",
    "\n",
    "x_test = np.asarray(\n",
    "    [np.concatenate(\n",
    "        (x_test_positive,\n",
    "         x_test_negative)),\n",
    "     np.concatenate(\n",
    "         (y_test_positive,\n",
    "          y_test_negative))\n",
    "     ]).transpose(1,0)\n",
    "\n",
    "t_test = np.asarray([1,]*x_test_positive.shape[0] + [0,]*x_test_negative.shape[0])\n",
    "\n",
    "\n",
    "xn_test = (x_test - mus)/sigma\n",
    "\n",
    "y_test = mdl(torch.tensor(xn_test,dtype=torch.float)).detach().numpy()"
   ]
  },
  {
   "cell_type": "code",
   "execution_count": 7,
   "id": "ac635505",
   "metadata": {},
   "outputs": [
    {
     "name": "stdout",
     "output_type": "stream",
     "text": [
      "Accuracy: 0.8\n"
     ]
    },
    {
     "data": {
      "text/plain": [
       "[<matplotlib.lines.Line2D at 0x7f371f03f0d0>]"
      ]
     },
     "execution_count": 7,
     "metadata": {},
     "output_type": "execute_result"
    },
    {
     "data": {
      "image/png": "[encoded data removed]",
      "text/plain": [
       "<Figure size 432x288 with 1 Axes>"
      ]
     },
     "metadata": {
      "needs_background": "light"
     },
     "output_type": "display_data"
    }
   ],
   "source": [
    "\"\"\"\n",
    "Prediction and measure using the previously created data.\n",
    "\"\"\"\n",
    "\n",
    "pred = np.heaviside(y_test-thre_val, 0).reshape(-1)\n",
    "x_pred_pos = x_test[pred==1]\n",
    "x_pred_neg = x_test[pred==0]\n",
    "\n",
    "x_fp = x_test[ (pred==1) & (t_test==0) ]\n",
    "x_fn = x_test[ (pred==0) & (t_test==1) ]\n",
    "\n",
    "acc = np.sum(t_test == pred)/t_test.shape[0]\n",
    "print(f\"Accuracy: {acc}\")\n",
    "\n",
    "plt.scatter(x_pred_pos[:,0], x_pred_pos[:, 1], color = 'red')\n",
    "plt.scatter(x_pred_neg[:,0], x_pred_neg[:, 1], color='blue')\n",
    "\n",
    "plt.scatter(x_fp[:,0], x_fp[:,1], color='red', marker='x',s=200)\n",
    "plt.scatter(x_fn[:,0], x_fn[:,1], color='blue', marker='x', s=200)\n",
    "\n",
    "plt.plot(np.linspace(-2,2,200), f(np.linspace(-2,2,200)), color='green')"
   ]
  },
  {
   "cell_type": "markdown",
   "id": "38bb94a4",
   "metadata": {},
   "source": [
    "# Tensorflow + Keras\n",
    "\n",
    "Now we are going to use the intuitive high-level API of keras.\n",
    "\n",
    "- We use a simple architecture of a MLP with three layers: 2 - 16 - 2 - 1.\n",
    "- We make use of ReLu as the activation function."
   ]
  },
  {
   "cell_type": "code",
   "execution_count": 10,
   "id": "de7f30f4",
   "metadata": {},
   "outputs": [
    {
     "name": "stdout",
     "output_type": "stream",
     "text": [
      "Epoch 1/30\n",
      "4/4 [==============================] - 0s 815us/step - loss: 0.2583 - accuracy: 0.4800\n",
      "Epoch 2/30\n",
      "4/4 [==============================] - 0s 1ms/step - loss: 0.2467 - accuracy: 0.4800\n",
      "Epoch 3/30\n",
      "4/4 [==============================] - 0s 809us/step - loss: 0.2394 - accuracy: 0.6900\n",
      "Epoch 4/30\n",
      "4/4 [==============================] - 0s 1ms/step - loss: 0.2148 - accuracy: 0.8700\n",
      "Epoch 5/30\n",
      "4/4 [==============================] - 0s 820us/step - loss: 0.1924 - accuracy: 0.8400\n",
      "Epoch 6/30\n",
      "4/4 [==============================] - 0s 837us/step - loss: 0.1754 - accuracy: 0.7800\n",
      "Epoch 7/30\n",
      "4/4 [==============================] - 0s 1ms/step - loss: 0.1598 - accuracy: 0.8900\n",
      "Epoch 8/30\n",
      "4/4 [==============================] - 0s 1ms/step - loss: 0.1471 - accuracy: 0.8800\n",
      "Epoch 9/30\n",
      "4/4 [==============================] - 0s 1ms/step - loss: 0.1374 - accuracy: 0.8700\n",
      "Epoch 10/30\n",
      "4/4 [==============================] - 0s 2ms/step - loss: 0.1249 - accuracy: 0.9000\n",
      "Epoch 11/30\n",
      "4/4 [==============================] - 0s 996us/step - loss: 0.1170 - accuracy: 0.9000\n",
      "Epoch 12/30\n",
      "4/4 [==============================] - 0s 885us/step - loss: 0.1075 - accuracy: 0.9200\n",
      "Epoch 13/30\n",
      "4/4 [==============================] - 0s 834us/step - loss: 0.1028 - accuracy: 0.9000\n",
      "Epoch 14/30\n",
      "4/4 [==============================] - 0s 857us/step - loss: 0.0961 - accuracy: 0.9000\n",
      "Epoch 15/30\n",
      "4/4 [==============================] - 0s 1ms/step - loss: 0.0923 - accuracy: 0.9500\n",
      "Epoch 16/30\n",
      "4/4 [==============================] - 0s 824us/step - loss: 0.0884 - accuracy: 0.9100\n",
      "Epoch 17/30\n",
      "4/4 [==============================] - 0s 838us/step - loss: 0.0856 - accuracy: 0.9200\n",
      "Epoch 18/30\n",
      "4/4 [==============================] - 0s 1ms/step - loss: 0.0809 - accuracy: 0.9300\n",
      "Epoch 19/30\n",
      "4/4 [==============================] - 0s 797us/step - loss: 0.0791 - accuracy: 0.9400\n",
      "Epoch 20/30\n",
      "4/4 [==============================] - 0s 937us/step - loss: 0.0750 - accuracy: 0.9400\n",
      "Epoch 21/30\n",
      "4/4 [==============================] - 0s 864us/step - loss: 0.0709 - accuracy: 0.9500\n",
      "Epoch 22/30\n",
      "4/4 [==============================] - 0s 1ms/step - loss: 0.0694 - accuracy: 0.9400\n",
      "Epoch 23/30\n",
      "4/4 [==============================] - 0s 839us/step - loss: 0.0682 - accuracy: 0.9400\n",
      "Epoch 24/30\n",
      "4/4 [==============================] - 0s 1ms/step - loss: 0.0652 - accuracy: 0.9500\n",
      "Epoch 25/30\n",
      "4/4 [==============================] - 0s 1ms/step - loss: 0.0639 - accuracy: 0.9500\n",
      "Epoch 26/30\n",
      "4/4 [==============================] - 0s 899us/step - loss: 0.0609 - accuracy: 0.9500\n",
      "Epoch 27/30\n",
      "4/4 [==============================] - 0s 941us/step - loss: 0.0606 - accuracy: 0.9500\n",
      "Epoch 28/30\n",
      "4/4 [==============================] - 0s 976us/step - loss: 0.0640 - accuracy: 0.9300\n",
      "Epoch 29/30\n",
      "4/4 [==============================] - 0s 893us/step - loss: 0.0590 - accuracy: 0.9400\n",
      "Epoch 30/30\n",
      "4/4 [==============================] - 0s 821us/step - loss: 0.0575 - accuracy: 0.9400\n"
     ]
    },
    {
     "data": {
      "text/plain": [
       "<keras.callbacks.History at 0x7f368f5342b0>"
      ]
     },
     "execution_count": 10,
     "metadata": {},
     "output_type": "execute_result"
    }
   ],
   "source": [
    "\"\"\"Building the neural network.\"\"\"\n",
    "\n",
    "import tensorflow as tf\n",
    "from tensorflow.keras.models import Sequential\n",
    "from tensorflow.keras.layers import Dense, Activation\n",
    "\n",
    "# We pack our model in a Sequential Classa\n",
    "\n",
    "tf.random.set_seed(5)\n",
    "\n",
    "mdl = Sequential()\n",
    "mdl.add(Dense(16, input_dim = 2, activation='relu'))\n",
    "mdl.add(Dense(2, activation='relu'))\n",
    "mdl.add(Dense(1, activation='sigmoid'))\n",
    "\n",
    "mdl.compile(loss='mse',\n",
    "            optimizer= tf.keras.optimizers.SGD(\n",
    "                learning_rate=0.4,\n",
    "                name=\"SGD\"),\n",
    "            metrics=['accuracy'])\n",
    "\n",
    "mdl.fit(xn, t, epochs=30)"
   ]
  },
  {
   "cell_type": "code",
   "execution_count": 9,
   "id": "ae906972",
   "metadata": {},
   "outputs": [
    {
     "name": "stdout",
     "output_type": "stream",
     "text": [
      "Accuracy: 0.85\n"
     ]
    },
    {
     "data": {
      "text/plain": [
       "[<matplotlib.lines.Line2D at 0x7f368cf06c40>]"
      ]
     },
     "execution_count": 9,
     "metadata": {},
     "output_type": "execute_result"
    },
    {
     "data": {
      "image/png": "[encoded data removed]",
      "text/plain": [
       "<Figure size 432x288 with 1 Axes>"
      ]
     },
     "metadata": {
      "needs_background": "light"
     },
     "output_type": "display_data"
    }
   ],
   "source": [
    "\"\"\"\n",
    "Test\n",
    "For the previously created data.\n",
    "\"\"\"\n",
    "\n",
    "y_test = mdl.predict(x_test)\n",
    "pred = np.heaviside(y_test-thre_val, 0).reshape(-1)\n",
    "x_pred_pos = x_test[pred==1]\n",
    "x_pred_neg = x_test[pred==0]\n",
    "\n",
    "x_fp = x_test[ (pred==1) & (t_test==0) ]\n",
    "x_fn = x_test[ (pred==0) & (t_test==1) ]\n",
    "\n",
    "acc = np.sum(t_test == pred)/t_test.shape[0]\n",
    "print(f\"Accuracy: {acc}\")\n",
    "\n",
    "plt.scatter(x_pred_pos[:,0], x_pred_pos[:, 1], color = 'red')\n",
    "plt.scatter(x_pred_neg[:,0], x_pred_neg[:, 1], color='blue')\n",
    "\n",
    "plt.scatter(x_fp[:,0], x_fp[:,1], color='red', marker='x',s=200)\n",
    "plt.scatter(x_fn[:,0], x_fn[:,1], color='blue', marker='x', s=200)\n",
    "\n",
    "plt.plot(np.linspace(-2,2,200), f(np.linspace(-2,2,200)), color='green')"
   ]
  }
 ],
 "metadata": {
  "kernelspec": {
   "display_name": "Python 3 (ipykernel)",
   "language": "python",
   "name": "python3"
  },
  "language_info": {
   "codemirror_mode": {
    "name": "ipython",
    "version": 3
   },
   "file_extension": ".py",
   "mimetype": "text/x-python",
   "name": "python",
   "nbconvert_exporter": "python",
   "pygments_lexer": "ipython3",
   "version": "3.8.10"
  },
  "name": "Untitled.ipynb"
 },
 "nbformat": 4,
 "nbformat_minor": 5
}
